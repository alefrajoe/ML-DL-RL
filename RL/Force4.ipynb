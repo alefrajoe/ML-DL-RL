{
 "cells": [
  {
   "cell_type": "code",
   "execution_count": 1,
   "metadata": {},
   "outputs": [],
   "source": [
    "# standard imports\n",
    "import numpy as np\n",
    "import pandas as pd\n",
    "import matplotlib.pyplot as plt\n",
    "import seaborn as sns\n",
    "import tensorflow as tf\n",
    "from colorama import Fore, Style\n",
    "from functools import partial"
   ]
  },
  {
   "cell_type": "code",
   "execution_count": 2,
   "metadata": {},
   "outputs": [],
   "source": [
    "# define a single player\n",
    "class Player:\n",
    "    def __init__(self, color, value, strategy=None):\n",
    "        color_map = {'red':Fore.RED, 'blue':Fore.BLUE}\n",
    "        self.color = color_map[color]\n",
    "        self.value = value\n",
    "        self.points = 0\n",
    "        self.strategy = None"
   ]
  },
  {
   "cell_type": "code",
   "execution_count": 3,
   "metadata": {},
   "outputs": [],
   "source": [
    "# define force4 game\n",
    "class Force4:\n",
    "    def __init__(self, player1:Player, player2:Player):\n",
    "        self.game = pd.DataFrame(np.zeros((7,7)))\n",
    "        self.player1 = player1\n",
    "        self.player2 = player2\n",
    "        self.current_turn = self.player1\n",
    "        self.games = 0\n",
    "        self.turn = 0\n",
    "        \n",
    "    def available_moves(self):\n",
    "        '''Return a (7,) boolean array containing the available moves.\n",
    "        True -> allowed move.\n",
    "        False -> not allowed move.\n",
    "        '''\n",
    "        return self.game.values[0] == 0\n",
    "    \n",
    "    def put_coin(self, value, position):\n",
    "        '''Put a coin with the passed value (expected +-1.0) at the passed position.\n",
    "        If the move suggested is not allowed raise an error.'''\n",
    "        try:\n",
    "            self.game.values[np.where(self.game.values[:,position] == 0)[0].max(), position] = value\n",
    "        except:\n",
    "            print('Move is not allowed!')\n",
    "            \n",
    "    def has_won(self, value):\n",
    "        '''Return a boolean referring to whether the player with a given value has won the game with the current grid.'''\n",
    "        if value < 0:\n",
    "            vertical = sum([game.game.shift(n, axis=0) for n in range(4)]).fillna(0.0).values.min()\n",
    "            horizontal = sum([game.game.shift(n, axis=1) for n in range(4)]).fillna(0.0).values.min()\n",
    "            diag1 = sum([game.game.shift(n, axis=0).shift(n, axis=1) for n in range(4)]).fillna(0.0).values.min()\n",
    "            diag2 = sum([game.game.shift(n, axis=0).shift(-n, axis=1) for n in range(4)]).fillna(0.0).values.min()\n",
    "            return min([vertical, horizontal, diag1, diag2]) <= -4.0\n",
    "        \n",
    "        if value > 0:\n",
    "            vertical = sum([game.game.shift(n, axis=0) for n in range(4)]).fillna(0.0).values.max()\n",
    "            horizontal = sum([game.game.shift(n, axis=1) for n in range(4)]).fillna(0.0).values.max()\n",
    "            diag1 = sum([game.game.shift(n, axis=0).shift(n, axis=1) for n in range(4)]).fillna(0.0).values.max()\n",
    "            diag2 = sum([game.game.shift(n, axis=0).shift(-n, axis=1) for n in range(4)]).fillna(0.0).values.max()\n",
    "            return max([vertical, horizontal, diag1, diag2]) >= 4.0\n",
    "        \n",
    "    def play_turn(self, \n",
    "                  verbose=True,\n",
    "                  points=True):\n",
    "        '''The player passed to the function plays a turn.\n",
    "        Return a boolean:\n",
    "        True -> moves available\n",
    "        False -> player has won or no moves are available.\n",
    "        '''\n",
    "\n",
    "        # player put a coin according to its strategy\n",
    "        position = self.current_turn.strategy()\n",
    "        self.put_coin(position=position,\n",
    "                        value=self.current_turn.value)\n",
    "        # add a turn\n",
    "        self.turn += 1\n",
    "            \n",
    "        # if player1 won\n",
    "        player_win = self.has_won(value=self.current_turn.value)\n",
    "        if player_win:\n",
    "            if verbose:\n",
    "                print(\"*\"*50)\n",
    "                if self.current_turn is self.player1:\n",
    "                    print(self.current_turn.color+\"Player 1 won!!!\".center(50)+Fore.RESET)\n",
    "                elif self.current_turn is self.player2:\n",
    "                    print(self.current_turn.color+\"Player 2 won!!!\".center(50)+Fore.RESET)\n",
    "                print(\"*\"*50)\n",
    "            if points:\n",
    "                self.current_turn.points += 1\n",
    "                self.games += 1\n",
    "            return False\n",
    "        # if no moves are available is a draw\n",
    "        elif True not in self.available_moves():\n",
    "            if verbose:\n",
    "                print(\"*\"*50)\n",
    "                print(\"It's a draw!!!\".center(50))\n",
    "                print(\"*\"*50)\n",
    "            self.games += 1\n",
    "            return False\n",
    "        \n",
    "        # next turn the opponent moves\n",
    "        if self.current_turn is self.player1:\n",
    "            self.current_turn = self.player2\n",
    "        else:\n",
    "            self.current_turn = self.player1\n",
    "        # else continue playing returning True\n",
    "        return True\n",
    "\n",
    "            \n",
    "    def __str__(self):\n",
    "        '''Fancy print of the current grid.'''\n",
    "        grid = pd.DataFrame(self.game.values)\n",
    "        grid = grid.replace({0:' . ',\n",
    "                            self.player1.value:self.player1.color+' o '+Fore.RESET,\n",
    "                            self.player2.value:self.player2.color+' o '+Fore.RESET})\n",
    "        return ''.join(map(lambda x:''.join(x)+'\\n', grid.values.tolist()))"
   ]
  },
  {
   "cell_type": "code",
   "execution_count": 4,
   "metadata": {},
   "outputs": [],
   "source": [
    "# define few strategies\n",
    "def random_strategy(game:Force4):\n",
    "    return np.random.choice(np.array([n for n in range(7)])[game.available_moves()])"
   ]
  },
  {
   "cell_type": "code",
   "execution_count": 5,
   "metadata": {},
   "outputs": [],
   "source": [
    "game = Force4(player1=Player(color='red', value=1.0),\n",
    "              player2=Player(color='blue', value=-1.0))\n",
    "\n",
    "game.player1.strategy = partial(random_strategy, game=game)\n",
    "game.player2.strategy = partial(random_strategy, game=game)"
   ]
  },
  {
   "cell_type": "code",
   "execution_count": 6,
   "metadata": {},
   "outputs": [
    {
     "name": "stdout",
     "output_type": "stream",
     "text": [
      "**************************************************\n",
      "\u001b[31m                 Player 1 won!!!                  \u001b[39m\n",
      "**************************************************\n"
     ]
    }
   ],
   "source": [
    "while(game.play_turn()):\n",
    "    pass"
   ]
  },
  {
   "cell_type": "code",
   "execution_count": 7,
   "metadata": {},
   "outputs": [
    {
     "name": "stdout",
     "output_type": "stream",
     "text": [
      " .  .  .  .  . \u001b[31m o \u001b[39m . \n",
      " .  .  .  . \u001b[34m o \u001b[39m\u001b[31m o \u001b[39m\u001b[31m o \u001b[39m\n",
      " .  .  .  . \u001b[34m o \u001b[39m\u001b[31m o \u001b[39m\u001b[31m o \u001b[39m\n",
      " . \u001b[34m o \u001b[39m\u001b[34m o \u001b[39m . \u001b[31m o \u001b[39m\u001b[34m o \u001b[39m\u001b[34m o \u001b[39m\n",
      "\u001b[34m o \u001b[39m\u001b[31m o \u001b[39m\u001b[34m o \u001b[39m . \u001b[31m o \u001b[39m\u001b[34m o \u001b[39m\u001b[34m o \u001b[39m\n",
      "\u001b[31m o \u001b[39m\u001b[31m o \u001b[39m\u001b[34m o \u001b[39m . \u001b[34m o \u001b[39m\u001b[31m o \u001b[39m\u001b[34m o \u001b[39m\n",
      "\u001b[34m o \u001b[39m\u001b[31m o \u001b[39m\u001b[31m o \u001b[39m\u001b[31m o \u001b[39m\u001b[31m o \u001b[39m\u001b[34m o \u001b[39m\u001b[31m o \u001b[39m\n",
      "\n"
     ]
    }
   ],
   "source": [
    "print(game)"
   ]
  },
  {
   "cell_type": "code",
   "execution_count": null,
   "metadata": {},
   "outputs": [],
   "source": []
  }
 ],
 "metadata": {
  "kernelspec": {
   "display_name": "Python 3 (ipykernel)",
   "language": "python",
   "name": "python3"
  },
  "language_info": {
   "codemirror_mode": {
    "name": "ipython",
    "version": 3
   },
   "file_extension": ".py",
   "mimetype": "text/x-python",
   "name": "python",
   "nbconvert_exporter": "python",
   "pygments_lexer": "ipython3",
   "version": "3.8.5"
  }
 },
 "nbformat": 4,
 "nbformat_minor": 4
}
