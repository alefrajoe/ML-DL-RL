{
 "cells": [
  {
   "cell_type": "code",
   "execution_count": 9,
   "metadata": {},
   "outputs": [],
   "source": [
    "# standard imports\n",
    "import numpy as np\n",
    "import pandas as pd\n",
    "import matplotlib.pyplot as plt\n",
    "import seaborn as sns\n",
    "import tensorflow as tf\n",
    "from colorama import Fore, Style\n",
    "from functools import partial\n",
    "from IPython.display import clear_output"
   ]
  },
  {
   "cell_type": "code",
   "execution_count": 10,
   "metadata": {},
   "outputs": [],
   "source": [
    "# define a single player\n",
    "class Player:\n",
    "    def __init__(self, color, value, strategy=None):\n",
    "        color_map = {'red':Fore.RED, 'blue':Fore.BLUE}\n",
    "        self.color = color_map[color]\n",
    "        self.value = value\n",
    "        self.points = 0\n",
    "        self.turns = []\n",
    "        self.strategy = None"
   ]
  },
  {
   "cell_type": "code",
   "execution_count": 11,
   "metadata": {},
   "outputs": [],
   "source": [
    "# define force4 game\n",
    "class Force4:\n",
    "    def __init__(self, player1:Player, player2:Player):\n",
    "        self.game = pd.DataFrame(np.zeros((7,7)))\n",
    "        self.player1 = player1\n",
    "        self.player2 = player2\n",
    "        self.current_turn = self.player1\n",
    "        self.games = 0\n",
    "        self.turn = 0\n",
    "        \n",
    "    def available_moves(self):\n",
    "        '''Return a (7,) boolean array containing the available moves.\n",
    "        True -> allowed move.\n",
    "        False -> not allowed move.\n",
    "        '''\n",
    "        return self.game.values[0] == 0\n",
    "    \n",
    "    def put_coin(self, value, position):\n",
    "        '''Put a coin with the passed value (expected +-1.0) at the passed position.\n",
    "        If the move suggested is not allowed raise an error.'''\n",
    "        try:\n",
    "            self.game.values[np.where(self.game.values[:,position] == 0)[0].max(), position] = value\n",
    "        except:\n",
    "            print('Move is not allowed!')\n",
    "\n",
    "    def remove_coin(self, value, position):\n",
    "        '''Remove a coin from the passed position.'''\n",
    "        try:\n",
    "            self.game.values[np.where(self.game.values[:,position] != 0)[0].min(), position] = 0.0\n",
    "        except:\n",
    "            print('Cannot remove a coin!')\n",
    "            \n",
    "    def has_won(self, value):\n",
    "        '''Return a boolean referring to whether the player with a given value has won the game with the current grid.'''\n",
    "        if value < 0:\n",
    "            vertical = sum([self.game.shift(n, axis=0) for n in range(4)]).fillna(0.0).values.min()\n",
    "            horizontal = sum([self.game.shift(n, axis=1) for n in range(4)]).fillna(0.0).values.min()\n",
    "            diag1 = sum([self.game.shift(n, axis=0).shift(n, axis=1) for n in range(4)]).fillna(0.0).values.min()\n",
    "            diag2 = sum([self.game.shift(n, axis=0).shift(-n, axis=1) for n in range(4)]).fillna(0.0).values.min()\n",
    "            return min([vertical, horizontal, diag1, diag2]) <= -4.0\n",
    "        \n",
    "        if value > 0:\n",
    "            vertical = sum([self.game.shift(n, axis=0) for n in range(4)]).fillna(0.0).values.max()\n",
    "            horizontal = sum([self.game.shift(n, axis=1) for n in range(4)]).fillna(0.0).values.max()\n",
    "            diag1 = sum([self.game.shift(n, axis=0).shift(n, axis=1) for n in range(4)]).fillna(0.0).values.max()\n",
    "            diag2 = sum([self.game.shift(n, axis=0).shift(-n, axis=1) for n in range(4)]).fillna(0.0).values.max()\n",
    "            return max([vertical, horizontal, diag1, diag2]) >= 4.0\n",
    "        \n",
    "    def play_turn(self, \n",
    "                  verbose=True,\n",
    "                  points=True):\n",
    "        '''The player passed to the function plays a turn.\n",
    "        Return a boolean:\n",
    "        True -> moves available\n",
    "        False -> player has won or no moves are available.\n",
    "        '''\n",
    "\n",
    "        # player put a coin according to its strategy\n",
    "        position = self.current_turn.strategy()\n",
    "        self.put_coin(position=position,\n",
    "                        value=self.current_turn.value)\n",
    "        # add a turn\n",
    "        self.turn += 1\n",
    "            \n",
    "        # if player1 won\n",
    "        player_win = self.has_won(value=self.current_turn.value)\n",
    "        if player_win:\n",
    "            if verbose:\n",
    "                print(\"*\"*50)\n",
    "                if self.current_turn is self.player1:\n",
    "                    print(self.current_turn.color+\"Player 1 win!!!\".center(50)+Fore.RESET)\n",
    "                elif self.current_turn is self.player2:\n",
    "                    print(self.current_turn.color+\"Player 2 win!!!\".center(50)+Fore.RESET)\n",
    "                print(\"*\"*50)\n",
    "            if points:\n",
    "                self.current_turn.points += 1\n",
    "                self.current_turn.turns.append(self.turn)\n",
    "                self.games += 1\n",
    "            return False\n",
    "        # if no moves are available is a draw\n",
    "        elif True not in self.available_moves():\n",
    "            if verbose:\n",
    "                print(\"*\"*50)\n",
    "                print(\"It's a draw!!!\".center(50))\n",
    "                print(\"*\"*50)\n",
    "            self.games += 1\n",
    "            return False\n",
    "        \n",
    "        # next turn the opponent moves\n",
    "        if self.current_turn is self.player1:\n",
    "            self.current_turn = self.player2\n",
    "        else:\n",
    "            self.current_turn = self.player1\n",
    "        # else continue playing returning True\n",
    "        return True\n",
    "    \n",
    "    def reset_game(self):\n",
    "        '''Reset the grid to start a new game'''\n",
    "        self.game = pd.DataFrame(np.zeros((7,7)))\n",
    "        self.current_turn = self.player1\n",
    "        self.turn = 0\n",
    "\n",
    "\n",
    "    def play_game(self,\n",
    "                  verbose=True,\n",
    "                  points=True):\n",
    "        '''Play a full game until one of the player wins or no more moves are available.'''\n",
    "        while(self.play_turn(verbose, points)):\n",
    "            pass\n",
    "        self.reset_game()\n",
    "            \n",
    "    def __str__(self):\n",
    "        '''Fancy print of the current grid.'''\n",
    "        grid = pd.DataFrame(self.game.values)\n",
    "        grid = grid.replace({0:' . ',\n",
    "                            self.player1.value:self.player1.color+' o '+Fore.RESET,\n",
    "                            self.player2.value:self.player2.color+' o '+Fore.RESET})\n",
    "        return ''.join(map(lambda x:''.join(x)+'\\n', grid.values.tolist()))"
   ]
  },
  {
   "attachments": {},
   "cell_type": "markdown",
   "metadata": {},
   "source": [
    "# Strategies\n",
    "\n",
    "- **random_strategy**: the player put a coin randomly in an available slot.\n",
    "- **current_best_move_strategy**: the player put a coin to get the highest immediate reward. \n",
    "- **input_strategy**: the player takes the move from input."
   ]
  },
  {
   "cell_type": "code",
   "execution_count": 12,
   "metadata": {},
   "outputs": [],
   "source": [
    "# define the random strategy\n",
    "def random_strategy(game:Force4):\n",
    "    return np.random.choice(np.array([n for n in range(7)])[game.available_moves()])"
   ]
  },
  {
   "cell_type": "code",
   "execution_count": 13,
   "metadata": {},
   "outputs": [],
   "source": [
    "# the player consider all available moves and returns the one corresponding to the highest reward\n",
    "def current_best_move_strategy(game:Force4, exponent=4):\n",
    "    # define a list that will contain a score for each move\n",
    "    moves = []\n",
    "\n",
    "    # consider all available moves\n",
    "    for pos, true_or_false in enumerate(game.available_moves()):\n",
    "        if true_or_false == True:\n",
    "            # put a coin that will be removed\n",
    "            game.put_coin(value=game.current_turn.value,\n",
    "                        position=pos)\n",
    "\n",
    "            # consider all horizontal, vertical, and diagonal combination of coins\n",
    "            vertical = game.current_turn.value * (sum([game.game.shift(n, axis=0) for n in range(4)]).fillna(0.0).values**exponent).sum()\n",
    "            horizontal = game.current_turn.value * (sum([game.game.shift(n, axis=1) for n in range(4)]).fillna(0.0).values**exponent).sum()\n",
    "            diag1 = game.current_turn.value * (sum([game.game.shift(n, axis=0).shift(n, axis=1) for n in range(4)]).fillna(0.0).values**exponent).sum()\n",
    "            diag2 = game.current_turn.value * (sum([game.game.shift(n, axis=0).shift(-n, axis=1) for n in range(4)]).fillna(0.0).values**exponent).sum()\n",
    "            moves.append( ( pos, sum([vertical, horizontal, diag1, diag2]) ) )\n",
    "\n",
    "            # remove the coin\n",
    "            game.remove_coin(value=game.current_turn.value,\n",
    "                            position=pos)\n",
    "    \n",
    "    return max(moves, key=lambda x:x[1])[0]\n",
    "\n"
   ]
  },
  {
   "cell_type": "code",
   "execution_count": 14,
   "metadata": {},
   "outputs": [],
   "source": [
    "# input strategy\n",
    "def input_strategy(game:Force4):\n",
    "    # print the grid\n",
    "    print('*'*30)\n",
    "    print(game)\n",
    "    print('^'.center(3)*7)\n",
    "    print('|'.center(3)*7)\n",
    "    print(''.join([str(n).center(3) for n in range(0, 7)]))\n",
    "    move = input(game)\n",
    "    clear_output(wait=False)\n",
    "    return int(move)"
   ]
  },
  {
   "cell_type": "code",
   "execution_count": 15,
   "metadata": {},
   "outputs": [],
   "source": [
    "game = Force4(player1=Player(color='red', value=1.0),\n",
    "              player2=Player(color='blue', value=-1.0))\n",
    "\n",
    "game.player1.strategy = partial(current_best_move_strategy, game=game)\n",
    "game.player2.strategy = partial(input_strategy, game=game)"
   ]
  },
  {
   "cell_type": "code",
   "execution_count": 16,
   "metadata": {},
   "outputs": [],
   "source": [
    "for _ in range(1):\n",
    "    game.play_game(verbose=False)"
   ]
  },
  {
   "cell_type": "code",
   "execution_count": 18,
   "metadata": {},
   "outputs": [
    {
     "data": {
      "text/plain": [
       "0"
      ]
     },
     "execution_count": 18,
     "metadata": {},
     "output_type": "execute_result"
    }
   ],
   "source": [
    "game.player1.points"
   ]
  }
 ],
 "metadata": {
  "kernelspec": {
   "display_name": "Python 3 (ipykernel)",
   "language": "python",
   "name": "python3"
  },
  "language_info": {
   "codemirror_mode": {
    "name": "ipython",
    "version": 3
   },
   "file_extension": ".py",
   "mimetype": "text/x-python",
   "name": "python",
   "nbconvert_exporter": "python",
   "pygments_lexer": "ipython3",
   "version": "3.8.5"
  }
 },
 "nbformat": 4,
 "nbformat_minor": 4
}
